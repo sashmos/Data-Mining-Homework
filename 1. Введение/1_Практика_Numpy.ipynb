{
  "cells": [
    {
      "cell_type": "markdown",
      "metadata": {
        "id": "view-in-github",
        "colab_type": "text"
      },
      "source": [
        "<a href=\"https://colab.research.google.com/github/sashmos/Data-Mining-Homework/blob/main/1.%20%D0%92%D0%B2%D0%B5%D0%B4%D0%B5%D0%BD%D0%B8%D0%B5/1_%D0%9F%D1%80%D0%B0%D0%BA%D1%82%D0%B8%D0%BA%D0%B0_Numpy.ipynb\" target=\"_parent\"><img src=\"https://colab.research.google.com/assets/colab-badge.svg\" alt=\"Open In Colab\"/></a>"
      ]
    },
    {
      "cell_type": "markdown",
      "metadata": {
        "id": "BF4grSYKg73V"
      },
      "source": [
        "# Практика Numpy\n",
        "\n",
        "1. Скачайте этот блокнот к себе.\n",
        "2. Заполните пропущенные ячейки, отвечая на заданные вопросы. Там должен быть код! (если не сказано обратное)\n",
        "3. Сохраните результат в своём гитхаб репозитории.\n",
        "\n",
        "#### Полезная литература\n",
        "- [**Блокнот с теорией**](https://clck.ru/35fwMP)\n",
        "- http://www.numpy.org/\n",
        "- https://jakevdp.github.io/PythonDataScienceHandbook/02.00-introduction-to-numpy.html\n",
        "- https://docs.scipy.org/doc/numpy/user/quickstart.html\n"
      ]
    },
    {
      "cell_type": "markdown",
      "metadata": {
        "id": "M-XimTy4g73X"
      },
      "source": [
        "1) Импортировать numpy и написать версию"
      ]
    },
    {
      "cell_type": "code",
      "execution_count": 2,
      "metadata": {
        "id": "edTYJytqg73Y",
        "colab": {
          "base_uri": "https://localhost:8080/"
        },
        "outputId": "3e3c88b9-ea44-49a6-de61-ba9886cd4069"
      },
      "outputs": [
        {
          "output_type": "stream",
          "name": "stdout",
          "text": [
            "numpy version: 1.23.5\n"
          ]
        }
      ],
      "source": [
        "import numpy as np\n",
        "print('numpy version: ' + np.__version__)"
      ]
    },
    {
      "cell_type": "markdown",
      "metadata": {
        "id": "Js6HVXOxg73Y"
      },
      "source": [
        "2) Создать нулевой вектор размера 10"
      ]
    },
    {
      "cell_type": "code",
      "execution_count": null,
      "metadata": {
        "id": "nm7ledVLg73Y",
        "colab": {
          "base_uri": "https://localhost:8080/"
        },
        "outputId": "c5e7f1ad-2721-46cc-c72f-3993f1be7691"
      },
      "outputs": [
        {
          "output_type": "stream",
          "name": "stdout",
          "text": [
            "[0. 0. 0. 0. 0. 0. 0. 0. 0. 0.]\n"
          ]
        }
      ],
      "source": [
        "vector = np.zeros(10)\n",
        "print(vector)"
      ]
    },
    {
      "cell_type": "markdown",
      "metadata": {
        "id": "8SDeVDHPg73Z"
      },
      "source": [
        "3) Создать вектор заполненный 7-ами размера 7"
      ]
    },
    {
      "cell_type": "code",
      "execution_count": null,
      "metadata": {
        "id": "ckz5rNtug73Z",
        "colab": {
          "base_uri": "https://localhost:8080/"
        },
        "outputId": "f1534e6b-8249-455d-92de-7320ceb3e905"
      },
      "outputs": [
        {
          "output_type": "stream",
          "name": "stdout",
          "text": [
            "[7 7 7 7 7 7 7]\n"
          ]
        }
      ],
      "source": [
        "vector = np.full(7, 7)\n",
        "print(vector)"
      ]
    },
    {
      "cell_type": "markdown",
      "metadata": {
        "id": "3HFGpanUg73Z"
      },
      "source": [
        "4) Создать вектор заполненный четными числами от 10 до 100"
      ]
    },
    {
      "cell_type": "code",
      "execution_count": null,
      "metadata": {
        "id": "PxQfwkHFg73Z",
        "colab": {
          "base_uri": "https://localhost:8080/"
        },
        "outputId": "6e4925c2-1a47-49e1-b0ea-62def775fe59"
      },
      "outputs": [
        {
          "output_type": "stream",
          "name": "stdout",
          "text": [
            "[ 10  12  14  16  18  20  22  24  26  28  30  32  34  36  38  40  42  44\n",
            "  46  48  50  52  54  56  58  60  62  64  66  68  70  72  74  76  78  80\n",
            "  82  84  86  88  90  92  94  96  98 100]\n"
          ]
        }
      ],
      "source": [
        "vector = np.arange(10, 102, 2)\n",
        "print(vector)"
      ]
    },
    {
      "cell_type": "markdown",
      "metadata": {
        "id": "Kr_pZe-eg73a"
      },
      "source": [
        "5) Создать массив случайных чисел и развернуть его задом наперёд"
      ]
    },
    {
      "cell_type": "code",
      "execution_count": null,
      "metadata": {
        "id": "n-z2Zbhkg73a",
        "colab": {
          "base_uri": "https://localhost:8080/"
        },
        "outputId": "8c98f681-e88e-43e6-888e-cc81160a119a"
      },
      "outputs": [
        {
          "output_type": "stream",
          "name": "stdout",
          "text": [
            "[0.11014974 0.63550641 0.49704809 0.21022267 0.85486281 0.58718694\n",
            " 0.81492646 0.65552744 0.32305317 0.82920262]\n",
            "перевернутый массив:\n",
            " [0.82920262 0.32305317 0.65552744 0.81492646 0.58718694 0.85486281\n",
            " 0.21022267 0.49704809 0.63550641 0.11014974]\n"
          ]
        }
      ],
      "source": [
        "random_array = np.random.rand(10)\n",
        "print(random_array)\n",
        "reversed = random_array[::-1]\n",
        "print('перевернутый массив:\\n',reversed)"
      ]
    },
    {
      "cell_type": "markdown",
      "metadata": {
        "id": "wFsBRv3Yg73a"
      },
      "source": [
        "6) Создать двумерную матрицу размера 3 на 3, заполненную числами от 0 до 9"
      ]
    },
    {
      "cell_type": "code",
      "execution_count": null,
      "metadata": {
        "id": "FBHjViULg73a",
        "colab": {
          "base_uri": "https://localhost:8080/"
        },
        "outputId": "c54de62f-82c2-4f27-ab8d-55b6a83f8ef0"
      },
      "outputs": [
        {
          "output_type": "stream",
          "name": "stdout",
          "text": [
            "[[0 1 2]\n",
            " [3 4 5]\n",
            " [6 7 8]]\n"
          ]
        }
      ],
      "source": [
        "matrix = np.arange(9).reshape(3, 3)\n",
        "print(matrix) # (9 не войдет в матрицу)"
      ]
    },
    {
      "cell_type": "markdown",
      "metadata": {
        "id": "DSB6smQyg73a"
      },
      "source": [
        "7) Создать матрицу размера 4 на 4 с единицами на диагонали смещеной на один наверх."
      ]
    },
    {
      "cell_type": "code",
      "execution_count": null,
      "metadata": {
        "id": "P_hy17H9g73b",
        "colab": {
          "base_uri": "https://localhost:8080/"
        },
        "outputId": "117bdd05-82fb-476e-a47c-3c222404ce01"
      },
      "outputs": [
        {
          "output_type": "stream",
          "name": "stdout",
          "text": [
            "[[0. 1. 0. 0.]\n",
            " [0. 0. 1. 0.]\n",
            " [0. 0. 0. 1.]\n",
            " [0. 0. 0. 0.]]\n"
          ]
        }
      ],
      "source": [
        "matrix = np.eye(4, k = 1)\n",
        "print(matrix)"
      ]
    },
    {
      "cell_type": "markdown",
      "metadata": {
        "id": "hLSsjUbPg73b"
      },
      "source": [
        "8) Создать матрицу с числами в диапазоне от 1 до 4 по диагонали. В других ячейках матрицы должны быть семерки."
      ]
    },
    {
      "cell_type": "code",
      "execution_count": null,
      "metadata": {
        "id": "H1N9NhU_g73b",
        "colab": {
          "base_uri": "https://localhost:8080/"
        },
        "outputId": "91bc3649-e794-4084-d37e-0c703c3ba2ca"
      },
      "outputs": [
        {
          "output_type": "stream",
          "name": "stdout",
          "text": [
            "[[1 7 7 7]\n",
            " [7 2 7 7]\n",
            " [7 7 3 7]\n",
            " [7 7 7 4]]\n"
          ]
        }
      ],
      "source": [
        "matrix = np.full((4, 4), 7)\n",
        "np.fill_diagonal(matrix, np.arange(1, 5))\n",
        "print(matrix)"
      ]
    },
    {
      "cell_type": "markdown",
      "metadata": {
        "id": "A4Z7Hb96g73b"
      },
      "source": [
        "9) Создать матрицу размера 5 на 5 заполненную чилами от 0 до 4 в строках."
      ]
    },
    {
      "cell_type": "code",
      "execution_count": null,
      "metadata": {
        "id": "JBWWjMdvg73b",
        "colab": {
          "base_uri": "https://localhost:8080/"
        },
        "outputId": "beb92ca8-e880-4a75-9be9-444618540655"
      },
      "outputs": [
        {
          "output_type": "stream",
          "name": "stdout",
          "text": [
            "[[0 1 2 3 4]\n",
            " [0 1 2 3 4]\n",
            " [0 1 2 3 4]\n",
            " [0 1 2 3 4]\n",
            " [0 1 2 3 4]]\n"
          ]
        }
      ],
      "source": [
        "matrix = np.tile(np.arange(5), (5, 1))\n",
        "print(matrix)"
      ]
    },
    {
      "cell_type": "markdown",
      "metadata": {
        "id": "0nPC4cNcg73b"
      },
      "source": [
        "10) Создать матрицу случайных чисел размера 10 на 10 и отнять среднее по строкам из каждого элемента строки"
      ]
    },
    {
      "cell_type": "code",
      "execution_count": null,
      "metadata": {
        "id": "DiXDOccEg73c",
        "colab": {
          "base_uri": "https://localhost:8080/"
        },
        "outputId": "e21f9b76-e9ed-408e-f88e-beb2bd3b58af"
      },
      "outputs": [
        {
          "output_type": "stream",
          "name": "stdout",
          "text": [
            "\n",
            " матрица случайных чисел: \n",
            " [[32 26 25 48 90  5 19 93 83 11]\n",
            " [96 46 30 72 13 51 29 66 35  1]\n",
            " [ 2 93 58 52 71  4 14 32  4 92]\n",
            " [51 53 17 89 10 62 16 28 70 13]\n",
            " [37 72 49 53 37 27 94 62 11 83]\n",
            " [61 59 98 44 69 85  5 93 26 24]\n",
            " [21  3 54 21 37 45 77 64 75 65]\n",
            " [61 75 61 79 85 19 73 21 29 43]\n",
            " [61 67 86 68 61 34 77 16  3 49]\n",
            " [48 32 47  2 52  1 43 16  0 29]]\n",
            "\n",
            " Среднее значение по всем строкам: \n",
            " [[43.2]\n",
            " [43.9]\n",
            " [42.2]\n",
            " [40.9]\n",
            " [52.5]\n",
            " [56.4]\n",
            " [46.2]\n",
            " [54.6]\n",
            " [52.2]\n",
            " [27. ]]\n",
            "\n",
            " нормализованная матрица случайных чисел: \n",
            "  [[-11.2 -17.2 -18.2   4.8  46.8 -38.2 -24.2  49.8  39.8 -32.2]\n",
            " [ 52.1   2.1 -13.9  28.1 -30.9   7.1 -14.9  22.1  -8.9 -42.9]\n",
            " [-40.2  50.8  15.8   9.8  28.8 -38.2 -28.2 -10.2 -38.2  49.8]\n",
            " [ 10.1  12.1 -23.9  48.1 -30.9  21.1 -24.9 -12.9  29.1 -27.9]\n",
            " [-15.5  19.5  -3.5   0.5 -15.5 -25.5  41.5   9.5 -41.5  30.5]\n",
            " [  4.6   2.6  41.6 -12.4  12.6  28.6 -51.4  36.6 -30.4 -32.4]\n",
            " [-25.2 -43.2   7.8 -25.2  -9.2  -1.2  30.8  17.8  28.8  18.8]\n",
            " [  6.4  20.4   6.4  24.4  30.4 -35.6  18.4 -33.6 -25.6 -11.6]\n",
            " [  8.8  14.8  33.8  15.8   8.8 -18.2  24.8 -36.2 -49.2  -3.2]\n",
            " [ 21.    5.   20.  -25.   25.  -26.   16.  -11.  -27.    2. ]]\n"
          ]
        }
      ],
      "source": [
        "matrix = np.random.randint(0,100, (10, 10))\n",
        "print(\"\\n матрица случайных чисел: \\n\" , matrix)\n",
        "row_avg = matrix.mean(axis=1, keepdims=True)\n",
        "print(\"\\n Среднее значение по всем строкам: \\n\" , row_avg)\n",
        "matrix = matrix - row_avg # отнимаем среднее по всем строкам из каждого эл-а строки\n",
        "print(\"\\n нормализованная матрица случайных чисел: \\n \"  , matrix)"
      ]
    },
    {
      "cell_type": "markdown",
      "metadata": {
        "id": "ALlG8EA5g73c"
      },
      "source": [
        "11) Создать матрицу случайных чисел размера 10 на 10 и отнять медиану по столбцам из каждого элемента столбца  "
      ]
    },
    {
      "cell_type": "code",
      "execution_count": 3,
      "metadata": {
        "id": "J7HvCuXFg73c",
        "colab": {
          "base_uri": "https://localhost:8080/"
        },
        "outputId": "60d188b3-6966-4342-9929-82570077c506"
      },
      "outputs": [
        {
          "output_type": "stream",
          "name": "stdout",
          "text": [
            "\n",
            " матрица случайных чисел: \n",
            " [[61 51 21 90 37 20  8 63 42  2]\n",
            " [94 75 22 33 40 10 89 50 86 75]\n",
            " [84  7 38 75 53  5 81 55 37 60]\n",
            " [45 31 62 45 10  2 78  3 46 96]\n",
            " [82 11 36 95 49 32 13 36  0 92]\n",
            " [87 49 24 74 76 33 44 70 48  4]\n",
            " [ 2 38 93 27 54 19 63 48 44 22]\n",
            " [ 2 45 87 87 47  0 75 23 11 58]\n",
            " [12 28 70 91 59 64 71  2 89 23]\n",
            " [88 65 86 20 65 47  2 42 55 61]]\n",
            "\n",
            " медиана по всем столбцам: \n",
            " [[71.5 41.5 50.  74.5 51.  19.5 67.  45.  45.  59. ]]\n",
            "\n",
            " нормализованная матрица случайных чисел: \n",
            "  [[-10.5   9.5 -29.   15.5 -14.    0.5 -59.   18.   -3.  -57. ]\n",
            " [ 22.5  33.5 -28.  -41.5 -11.   -9.5  22.    5.   41.   16. ]\n",
            " [ 12.5 -34.5 -12.    0.5   2.  -14.5  14.   10.   -8.    1. ]\n",
            " [-26.5 -10.5  12.  -29.5 -41.  -17.5  11.  -42.    1.   37. ]\n",
            " [ 10.5 -30.5 -14.   20.5  -2.   12.5 -54.   -9.  -45.   33. ]\n",
            " [ 15.5   7.5 -26.   -0.5  25.   13.5 -23.   25.    3.  -55. ]\n",
            " [-69.5  -3.5  43.  -47.5   3.   -0.5  -4.    3.   -1.  -37. ]\n",
            " [-69.5   3.5  37.   12.5  -4.  -19.5   8.  -22.  -34.   -1. ]\n",
            " [-59.5 -13.5  20.   16.5   8.   44.5   4.  -43.   44.  -36. ]\n",
            " [ 16.5  23.5  36.  -54.5  14.   27.5 -65.   -3.   10.    2. ]]\n"
          ]
        }
      ],
      "source": [
        "matrix = np.random.randint(0,100, (10, 10))\n",
        "print(\"\\n матрица случайных чисел: \\n\" , matrix)\n",
        "column_medians  = np.median(matrix, axis=0, keepdims=True)\n",
        "print(\"\\n медиана по всем столбцам: \\n\" , column_medians)\n",
        "matrix = matrix - column_medians # отнимаем медиану по всем столбцам из каждого эл-а\n",
        "print(\"\\n нормализованная матрица случайных чисел: \\n \"  , matrix)"
      ]
    },
    {
      "cell_type": "markdown",
      "metadata": {
        "id": "49ooRWtKg73c"
      },
      "source": [
        "12) Создать матрицу случайных чисел 5x5. Добавить к ней столбецы максимумов и минимумов по строкам. Получится матрица 5x7.  "
      ]
    },
    {
      "cell_type": "code",
      "execution_count": null,
      "metadata": {
        "id": "fxazLdb9g73c",
        "colab": {
          "base_uri": "https://localhost:8080/"
        },
        "outputId": "be5f36d8-8304-4030-b624-d0fe46bdf915"
      },
      "outputs": [
        {
          "output_type": "stream",
          "name": "stdout",
          "text": [
            "исходная матрица: \n",
            "  [[14 12  9 97 64]\n",
            " [57 74 69 89 34]\n",
            " [89 32 24 59 37]\n",
            " [21 96 32 88  8]\n",
            " [ 4 50 45 22 16]]\n",
            "\n",
            " максимумы в строках: \n",
            "  [[97]\n",
            " [89]\n",
            " [89]\n",
            " [96]\n",
            " [50]]\n",
            "\n",
            " мимнимумы в строках: \n",
            "  [[ 9]\n",
            " [34]\n",
            " [24]\n",
            " [ 8]\n",
            " [ 4]]\n",
            " \n",
            " расширенная матрица: \n",
            "  [[14 12  9 97 64 97  9]\n",
            " [57 74 69 89 34 89 34]\n",
            " [89 32 24 59 37 89 24]\n",
            " [21 96 32 88  8 96  8]\n",
            " [ 4 50 45 22 16 50  4]]\n"
          ]
        }
      ],
      "source": [
        "matrix = np.random.randint(0,100, (5, 5))\n",
        "print(\"исходная матрица: \\n \", matrix)\n",
        "\n",
        "# вычисляем максимумы и минимумы по строкам\n",
        "row_max = matrix.max(axis=1, keepdims=True)\n",
        "row_min = matrix.min(axis=1, keepdims=True)\n",
        "print(\"\\n максимумы в строках: \\n \", row_max)\n",
        "print(\"\\n мимнимумы в строках: \\n \", row_min)\n",
        "\n",
        "# создаем матрицу 5x7, добавляя столбцы максимумов и минимумов\n",
        "matrix = np.hstack((matrix, row_max, row_min))\n",
        "print(\" \\n расширенная матрица: \\n \",matrix)"
      ]
    },
    {
      "cell_type": "markdown",
      "metadata": {
        "id": "qBuKa6-Ug73c"
      },
      "source": [
        "13) Вектор чисел от 1 до 51 преобразовать в вектор нечетных чисел и в вектор четных чисел, поменять их размерности, чтобы получились две матрица. Найти произведение этих матриц. Найти обратную матрицу этого произведения.  "
      ]
    },
    {
      "cell_type": "code",
      "execution_count": 20,
      "metadata": {
        "id": "8NJsiSU4g73d",
        "colab": {
          "base_uri": "https://localhost:8080/"
        },
        "outputId": "f6fd79c6-6476-47d4-8046-94b0f08cf653"
      },
      "outputs": [
        {
          "output_type": "stream",
          "name": "stdout",
          "text": [
            "матрица четных чисел \n",
            " [[ 1  3  5  7  9 11 13 15 17 19 21 23 25 27 29 31 33 35 37 39 41 43 45 47\n",
            "  49]]\n",
            "\n",
            " матрица нечетных чисел \n",
            " [[ 2  4  6  8 10 12 14 16 18 20 22 24 26 28 30 32 34 36 38 40 42 44 46 48\n",
            "  50]]\n",
            "\n",
            " Умножение матриц \n",
            " [[21450]]\n",
            "\n",
            " Обратная матрица \n",
            " [[4.66200466e-05]]\n"
          ]
        }
      ],
      "source": [
        "vector_numbers = np.arange(1, 51)\n",
        "\n",
        "# Вектор нечетных чисел\n",
        "odd_vector = vector_numbers[vector_numbers % 2 != 0]\n",
        "\n",
        "# Вектор четных чисел\n",
        "even_vector = vector_numbers[vector_numbers % 2 == 0]\n",
        "\n",
        "# Преобразуем векторы в матрицы\n",
        "odd_matrix = odd_vector.reshape(1, -1)\n",
        "even_matrix = even_vector.reshape(1, -1)\n",
        "print( 'матрица четных чисел \\n',odd_matrix)\n",
        "print( '\\n матрица нечетных чисел \\n',even_matrix)\n",
        "\n",
        "matrix = np.dot(even_matrix, odd_matrix.T)\n",
        "print( '\\n Умножение матриц \\n',matrix)\n",
        "\n",
        "inv_matrix = np.linalg.inv(matrix)\n",
        "print( '\\n Обратная матрица \\n',inv_matrix)\n"
      ]
    },
    {
      "cell_type": "markdown",
      "metadata": {
        "id": "dIqffVE8g73d"
      },
      "source": [
        "14) Создать 8x8 матрицу и заполнить её в шахматном порядке нулями и единицами."
      ]
    },
    {
      "cell_type": "code",
      "execution_count": null,
      "metadata": {
        "id": "khdfFTxgg73d",
        "colab": {
          "base_uri": "https://localhost:8080/"
        },
        "outputId": "5c3fc522-4eac-493e-bb93-b10eab03d578"
      },
      "outputs": [
        {
          "output_type": "stream",
          "name": "stdout",
          "text": [
            "[[0 1 0 1 0 1 0 1]\n",
            " [1 0 1 0 1 0 1 0]\n",
            " [0 1 0 1 0 1 0 1]\n",
            " [1 0 1 0 1 0 1 0]\n",
            " [0 1 0 1 0 1 0 1]\n",
            " [1 0 1 0 1 0 1 0]\n",
            " [0 1 0 1 0 1 0 1]\n",
            " [1 0 1 0 1 0 1 0]]\n"
          ]
        }
      ],
      "source": [
        "chessboard_matrix = np.zeros((8, 8), dtype=int)\n",
        "# Присваиваем 1 эл-ам с четными индексами в строке и нечетными в столбце\n",
        "chessboard_matrix[1::2, ::2] = 1\n",
        "# Присваиваем 1 эл-ам с нечетными индексами в строке и четными в столбце\n",
        "chessboard_matrix[::2, 1::2] = 1\n",
        "\n",
        "print(chessboard_matrix)"
      ]
    }
  ],
  "metadata": {
    "kernelspec": {
      "display_name": "Python 3",
      "language": "python",
      "name": "python3"
    },
    "language_info": {
      "codemirror_mode": {
        "name": "ipython",
        "version": 3
      },
      "file_extension": ".py",
      "mimetype": "text/x-python",
      "name": "python",
      "nbconvert_exporter": "python",
      "pygments_lexer": "ipython3",
      "version": "3.8.0"
    },
    "colab": {
      "provenance": [],
      "include_colab_link": true
    }
  },
  "nbformat": 4,
  "nbformat_minor": 0
}